{
 "cells": [
  {
   "cell_type": "code",
   "execution_count": 2,
   "id": "9f578a63",
   "metadata": {},
   "outputs": [
    {
     "data": {
      "text/plain": [
       "'Calss\\n\\nA class is a user-defined layout or blueprint of an object that describes what a specific kind of object will look like. \\nA class description consists of two things: \\n1) Attributes or member variables, and 2) Implementations of behavior or member functions.\\nSo in object-oriented terminology: A class is a blueprint that defines the variables and the methods \\ncommon to all objects of a certain kind. It helps us to bind data and methods together, making the code reusable, \\nunlike procedural language.\\nFor Example, a mobile phone has attributes like a brand name, RAM, and functions like texting and calling.\\nThus, the mobile phone is a class of various phones (the objects).\\n\\n\\n\\nObject\\n\\n\\nAn object is a single instance of a class,\\nwhich contains data and methods working on that data. So an object consists of three things:\\nName: This is a variable name that represents the object.\\nMember data: The data that describes the object.\\nMember methods: Behavior that describes the object.    \\nFor example, samsung galaxy  is an object with the brand name Samsung, \\n2GB RAM as properties, and calling and texting as behaviors. '"
      ]
     },
     "execution_count": 2,
     "metadata": {},
     "output_type": "execute_result"
    }
   ],
   "source": [
    "#question1:Explain class and object with respect to object oriented programming .Give a suitable example.\n",
    "\n",
    "\n",
    "\n",
    "\n",
    "\"\"\"Calss\n",
    "\n",
    "A class is a user-defined layout or blueprint of an object that describes what a specific kind of object will look like. \n",
    "A class description consists of two things: \n",
    "1) Attributes or member variables, and 2) Implementations of behavior or member functions.\n",
    "So in object-oriented terminology: A class is a blueprint that defines the variables and the methods \n",
    "common to all objects of a certain kind. It helps us to bind data and methods together, making the code reusable, \n",
    "unlike procedural language.\n",
    "For Example, a mobile phone has attributes like a brand name, RAM, and functions like texting and calling.\n",
    "Thus, the mobile phone is a class of various phones (the objects).\n",
    "\n",
    "\n",
    "\n",
    "Object\n",
    "\n",
    "\n",
    "An object is a single instance of a class,\n",
    "which contains data and methods working on that data. So an object consists of three things:\n",
    "Name: This is a variable name that represents the object.\n",
    "Member data: The data that describes the object.\n",
    "Member methods: Behavior that describes the object.    \n",
    "For example, samsung galaxy  is an object with the brand name Samsung, \n",
    "2GB RAM as properties, and calling and texting as behaviors. \"\"\""
   ]
  },
  {
   "cell_type": "code",
   "execution_count": 4,
   "id": "864e8c92",
   "metadata": {},
   "outputs": [
    {
     "data": {
      "text/plain": [
       "'1.Inheritance\\n2.Polymorphism\\n3.Encapsulation\\n4.Abstraction '"
      ]
     },
     "execution_count": 4,
     "metadata": {},
     "output_type": "execute_result"
    }
   ],
   "source": [
    "#Question2:Name the four pillars of OOPs.\n",
    "\n",
    "\n",
    "\n",
    "\"\"\"1.Inheritance\n",
    "2.Polymorphism\n",
    "3.Encapsulation\n",
    "4.Abstraction \"\"\""
   ]
  },
  {
   "cell_type": "code",
   "execution_count": 7,
   "id": "e3d0c11a",
   "metadata": {},
   "outputs": [
    {
     "data": {
      "text/plain": [
       "'The Default __init__ Constructor in C++ and Java. Constructors are used to initializing the object’s state.\\nThe task of constructors is to initialize(assign values) to the data members of the class when an object of the \\nclass is created. Like methods, a constructor also contains a collection of statements(i.e. instructions) that are\\nexecuted at the time of Object creation. It is run as soon as an object of a class is instantiated. \\nThe method is useful to do any initialization you want to do with your object.\\n\\nExample:-\\n\\nclass pwskills2:                                                  #here __init__ has successive two underscores\\n    \\n    def __init__(goku , phone_number , email_id, student_id):\\n        goku.phone_number1 = phone_number\\n        goku.email_id1 = email_id\\n        goku.student_id1 = student_id\\n        \\n        \\n    def return_student_deetails(goku):\\n        return  goku.phone_number1, goku.email_id1, goku.student_id1\\n'"
      ]
     },
     "execution_count": 7,
     "metadata": {},
     "output_type": "execute_result"
    }
   ],
   "source": [
    "#Question3: Explain why the __init__() function is used.Give a suitable example\n",
    "\n",
    "\n",
    "\"\"\"The Default __init__ Constructor in C++ and Java. Constructors are used to initializing the object’s state.\n",
    "The task of constructors is to initialize(assign values) to the data members of the class when an object of the \n",
    "class is created. Like methods, a constructor also contains a collection of statements(i.e. instructions) that are\n",
    "executed at the time of Object creation. It is run as soon as an object of a class is instantiated. \n",
    "The method is useful to do any initialization you want to do with your object.\n",
    "\n",
    "Example:-\n",
    "\n",
    "class pwskills2:                                                  #here __init__ has successive two underscores\n",
    "    \n",
    "    def __init__(goku , phone_number , email_id, student_id):\n",
    "        goku.phone_number1 = phone_number\n",
    "        goku.email_id1 = email_id\n",
    "        goku.student_id1 = student_id\n",
    "        \n",
    "        \n",
    "    def return_student_deetails(goku):\n",
    "        return  goku.phone_number1, goku.email_id1, goku.student_id1\n",
    "\"\"\"\n",
    "\n",
    "\n"
   ]
  },
  {
   "cell_type": "code",
   "execution_count": 8,
   "id": "c715909f",
   "metadata": {},
   "outputs": [
    {
     "data": {
      "text/plain": [
       "'The self variable is used to represent the instance of the class which is often used in object-oriented programming. \\nIt works as a reference to the object. \\nPython uses the self parameter to refer to instance attributes and methods of the class.  '"
      ]
     },
     "execution_count": 8,
     "metadata": {},
     "output_type": "execute_result"
    }
   ],
   "source": [
    "#Question4: Why self is used in OOPs?\n",
    "\n",
    "\n",
    "\n",
    "\"\"\"The self variable is used to represent the instance of the class which is often used in object-oriented programming. \n",
    "It works as a reference to the object. \n",
    "Python uses the self parameter to refer to instance attributes and methods of the class.  \"\"\"\n",
    "\n",
    "\n",
    "\n"
   ]
  },
  {
   "cell_type": "code",
   "execution_count": 9,
   "id": "4b9ab436",
   "metadata": {},
   "outputs": [
    {
     "data": {
      "text/plain": [
       "'Inheritance is a process of obtaining properties and characteristics(variables and methods) of \\nanother class. In this hierarchical order, the class which inherits another class is called subclass or child class,\\nand the other class is the parent class.\\n\\n\\n\\n\\nThere are five types of inheritances:\\n\\nSingle Inheritance\\nMultiple Inheritance\\nMultilevel Inheritance\\nHierarchical Inheritance\\nHybrid Inheritance\\n\\n\\n\\n\\nSingle Inheritance\\nThis type of inheritance enables a subclass or derived class to inherit properties and characteristics of the parent class,\\nthis avoids duplication of code and improves code reusability.\\n\\n\\n\\nMultiple Inheritance\\nThis inheritance enables a child class to inherit from more than one parent class. This type of inheritance is not supported by\\njava classes, but python does support this kind of inheritance. \\nIt has a massive advantage if we have a requirement of gathering multiple characteristics from different classes.\\n\\n\\n\\n\\nMultilevel Inheritance\\nIn multilevel inheritance, the transfer of the properties of characteristics \\nis done to more than one class hierarchically. To get a better visualization\\nwe can consider it as an ancestor to grandchildren relation or a root to leaf in a tree with more than one level.\\n\\n\\n\\n\\n\\nHierarchical Inheritance\\nThis inheritance allows a class to host as a parent class for more than one child class or subclass.\\nThis provides a benefit of sharing the functioning of methods with multiple child classes, hence avoiding code duplication.\\n\\n\\n\\n\\n\\nHybrid Inheritance\\nAn inheritance is said hybrid inheritance if more than one type of inheritance is implemented in the same code. \\nThis feature enables the user to utilize the feature of inheritance at its best.\\nThis satisfies the requirement of implementing a code that needs multiple inheritances in implementation.\\n'"
      ]
     },
     "execution_count": 9,
     "metadata": {},
     "output_type": "execute_result"
    }
   ],
   "source": [
    "#Question5: What is inheritance ? Give an example of each type of inheritance.\n",
    "\n",
    "\n",
    "\n",
    "\"\"\"Inheritance is a process of obtaining properties and characteristics(variables and methods) of \n",
    "another class. In this hierarchical order, the class which inherits another class is called subclass or child class,\n",
    "and the other class is the parent class.\n",
    "\n",
    "\n",
    "\n",
    "\n",
    "There are five types of inheritances:\n",
    "\n",
    "Single Inheritance\n",
    "Multiple Inheritance\n",
    "Multilevel Inheritance\n",
    "Hierarchical Inheritance\n",
    "Hybrid Inheritance\n",
    "\n",
    "\n",
    "\n",
    "\n",
    "Single Inheritance\n",
    "This type of inheritance enables a subclass or derived class to inherit properties and characteristics of the parent class,\n",
    "this avoids duplication of code and improves code reusability.\n",
    "\n",
    "\n",
    "\n",
    "Multiple Inheritance\n",
    "This inheritance enables a child class to inherit from more than one parent class. This type of inheritance is not supported by\n",
    "java classes, but python does support this kind of inheritance. \n",
    "It has a massive advantage if we have a requirement of gathering multiple characteristics from different classes.\n",
    "\n",
    "\n",
    "\n",
    "\n",
    "Multilevel Inheritance\n",
    "In multilevel inheritance, the transfer of the properties of characteristics \n",
    "is done to more than one class hierarchically. To get a better visualization\n",
    "we can consider it as an ancestor to grandchildren relation or a root to leaf in a tree with more than one level.\n",
    "\n",
    "\n",
    "\n",
    "\n",
    "\n",
    "Hierarchical Inheritance\n",
    "This inheritance allows a class to host as a parent class for more than one child class or subclass.\n",
    "This provides a benefit of sharing the functioning of methods with multiple child classes, hence avoiding code duplication.\n",
    "\n",
    "\n",
    "\n",
    "\n",
    "\n",
    "Hybrid Inheritance\n",
    "An inheritance is said hybrid inheritance if more than one type of inheritance is implemented in the same code. \n",
    "This feature enables the user to utilize the feature of inheritance at its best.\n",
    "This satisfies the requirement of implementing a code that needs multiple inheritances in implementation.\n",
    "\"\"\"\n",
    "\n",
    "    \n",
    "\n",
    "\n"
   ]
  },
  {
   "cell_type": "code",
   "execution_count": null,
   "id": "10bbd4d8",
   "metadata": {},
   "outputs": [],
   "source": []
  }
 ],
 "metadata": {
  "kernelspec": {
   "display_name": "Python 3 (ipykernel)",
   "language": "python",
   "name": "python3"
  },
  "language_info": {
   "codemirror_mode": {
    "name": "ipython",
    "version": 3
   },
   "file_extension": ".py",
   "mimetype": "text/x-python",
   "name": "python",
   "nbconvert_exporter": "python",
   "pygments_lexer": "ipython3",
   "version": "3.9.6"
  }
 },
 "nbformat": 4,
 "nbformat_minor": 5
}
